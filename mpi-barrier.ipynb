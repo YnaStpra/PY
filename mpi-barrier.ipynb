{
 "cells": [
  {
   "cell_type": "code",
   "execution_count": null,
   "metadata": {},
   "outputs": [],
   "source": [
    "#barrier.py\n",
    "from mpi4py import MPI\n",
    "\n",
    "comm = MPI.COMM_WORLD\n",
    "if comm.rank==0:\n",
    "    print(\"Rank %d Kumpulin data\" % (comm.rank),flush=True)\n",
    "    comm.Barrier() #barrier 1\n",
    "    comm.Barrier()#barrier 2\n",
    "    \n",
    "else:\n",
    "    comm.Barrier()#barrier 1\n",
    "    print(\"Session 1 Rank %d dari %d\" % (comm.rank, comm.size),flush=True)\n",
    "    comm.Barrier()#barrier 2\n",
    "    print(\"Session 2 Rank %d dari %d\" % (comm.rank, comm.size),flush=True)"
   ]
  },
  {
   "cell_type": "code",
   "execution_count": 3,
   "metadata": {},
   "outputs": [
    {
     "name": "stderr",
     "output_type": "stream",
     "text": [
      "'mpiexec' is not recognized as an internal or external command,\n",
      "operable program or batch file.\n"
     ]
    }
   ],
   "source": [
    "!mpiexec -n 23 python barrier.py"
   ]
  },
  {
   "cell_type": "code",
   "execution_count": null,
   "metadata": {},
   "outputs": [],
   "source": [
    "   "
   ]
  },
  {
   "cell_type": "code",
   "execution_count": 10,
   "metadata": {},
   "outputs": [
    {
     "name": "stdout",
     "output_type": "stream",
     "text": [
      "Rank 0 Kumpulin data\n",
      "Session 1 Rank 1 dari 13\n",
      "Session 1 Rank 2 dari 13\n",
      "Session 1 Rank 8 dari 13\n",
      "Session 1 Rank 9 dari 13\n",
      "Session 1 Rank 12 dari 13\n",
      "Session 1 Rank 10 dari 13\n",
      "Session 1 Rank 4 dari 13\n",
      "Session 1 Rank 3 dari 13\n",
      "Session 1 Rank 6 dari 13\n",
      "Session 1 Rank 7 dari 13\n",
      "Session 1 Rank 5 dari 13\n",
      "Session 1 Rank 11 dari 13\n",
      "Session 2 Rank 1 dari 13\n",
      "Session 2 Rank 8 dari 13\n",
      "Session 2 Rank 9 dari 13\n",
      "Session 2 Rank 10 dari 13\n",
      "Session 2 Rank 12 dari 13\n",
      "Session 2 Rank 4 dari 13\n",
      "Session 2 Rank 6 dari 13\n",
      "Session 2 Rank 7 dari 13\n",
      "Session 2 Rank 2 dari 13\n",
      "Session 2 Rank 5 dari 13\n",
      "Session 2 Rank 11 dari 13\n",
      "Session 2 Rank 3 dari 13\n",
      "Rank 2 Upload data\n"
     ]
    }
   ],
   "source": [
    "!mpiexec -n 13 python barrier2.py"
   ]
  },
  {
   "cell_type": "code",
   "execution_count": null,
   "metadata": {},
   "outputs": [],
   "source": [
    "from mpi4py import MPI\n",
    "\n",
    "comm = MPI.COMM_WORLD\n",
    "rank = comm.rank\n",
    "\n",
    "print(\"rank %d \" % rank,end=\" \")\n",
    "if rank==0:\n",
    "    data1 = 10\n",
    "    data2 = 100\n",
    "    comm.send(data1,dest=1,tag=1)\n",
    "    comm.send(data2,dest=2,tag=1)\n",
    "    print(\"Mengirim\")\n",
    "    data10 = comm.recv(source=3,tag=14)\n",
    "    data9 = comm.recv(source=4,tag=69)*2\n",
    "    dataHasil = data10 + data9\n",
    "    print(dataHasil)\n",
    "elif rank==1:\n",
    "    data11 = comm.recv(source=0,tag=1)\n",
    "    data11 += 45\n",
    "    print(\"Hasil Sementara : %d \" % (data11))\n",
    "    comm.send(data11,dest=3,tag=1)\n",
    "elif rank==2:\n",
    "    data12 = comm.recv(source=0,tag=1)\n",
    "    data12 -= 45\n",
    "    comm.send(data12,dest=4,tag=1)\n",
    "    print(\"Hasil Sementara : %d \" % (data12))\n",
    "elif rank==3:\n",
    "    data13 = comm.recv(source=1,tag=1)\n",
    "    data13 **= 2\n",
    "    print(\"Hasil Akhir : %d \" % (data13))\n",
    "    comm.send(data13,dest=0,tag=14)\n",
    "elif rank==4:\n",
    "    data14 = comm.recv(source=2,tag=1)\n",
    "    data14 **= 2\n",
    "    print(\"Hasil Akhir : %d \" % (data14))\n",
    "    comm.send(data14,dest=0,tag=69)"
   ]
  }
 ],
 "metadata": {
  "kernelspec": {
   "display_name": "Python 3",
   "language": "python",
   "name": "python3"
  },
  "language_info": {
   "codemirror_mode": {
    "name": "ipython",
    "version": 3
   },
   "file_extension": ".py",
   "mimetype": "text/x-python",
   "name": "python",
   "nbconvert_exporter": "python",
   "pygments_lexer": "ipython3",
   "version": "3.11.1"
  }
 },
 "nbformat": 4,
 "nbformat_minor": 4
}
