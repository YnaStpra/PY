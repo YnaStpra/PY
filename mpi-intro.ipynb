{
 "cells": [
  {
   "cell_type": "code",
   "execution_count": 4,
   "metadata": {},
   "outputs": [
    {
     "ename": "SyntaxError",
     "evalue": "invalid syntax (211117630.py, line 1)",
     "output_type": "error",
     "traceback": [
      "\u001b[1;36m  Cell \u001b[1;32mIn[4], line 1\u001b[1;36m\u001b[0m\n\u001b[1;33m    python -m pip install https://github.com/mpi4py/mpi4py/tarball/master\u001b[0m\n\u001b[1;37m              ^\u001b[0m\n\u001b[1;31mSyntaxError\u001b[0m\u001b[1;31m:\u001b[0m invalid syntax\n"
     ]
    }
   ],
   "source": [
    "python -m pip install https://github.com/mpi4py/mpi4py/tarball/master"
   ]
  },
  {
   "cell_type": "code",
   "execution_count": 2,
   "metadata": {},
   "outputs": [
    {
     "ename": "ModuleNotFoundError",
     "evalue": "No module named 'mpi4py'",
     "output_type": "error",
     "traceback": [
      "\u001b[1;31m---------------------------------------------------------------------------\u001b[0m",
      "\u001b[1;31mModuleNotFoundError\u001b[0m                       Traceback (most recent call last)",
      "Cell \u001b[1;32mIn[2], line 2\u001b[0m\n\u001b[0;32m      1\u001b[0m \u001b[39m#simpan sebagai mpihello.py\u001b[39;00m\n\u001b[1;32m----> 2\u001b[0m \u001b[39mfrom\u001b[39;00m \u001b[39mmpi4py\u001b[39;00m \u001b[39mimport\u001b[39;00m MPI\n\u001b[0;32m      3\u001b[0m comm \u001b[39m=\u001b[39m MPI\u001b[39m.\u001b[39mCOMM_WORLD\n\u001b[0;32m      4\u001b[0m \u001b[39mif\u001b[39;00m comm\u001b[39m.\u001b[39mrank\u001b[39m==\u001b[39m\u001b[39m0\u001b[39m:\n",
      "\u001b[1;31mModuleNotFoundError\u001b[0m: No module named 'mpi4py'"
     ]
    }
   ],
   "source": [
    "#simpan sebagai mpihello.py\n",
    "from mpi4py import MPI\n",
    "comm = MPI.COMM_WORLD\n",
    "if comm.rank==0:\n",
    "    print(\"saya boss\")\n",
    "elif comm.rank==4:\n",
    "    print(\"saya anak istimewa\")\n",
    "else:\n",
    "    print(\"saya anak buah no\",comm.rank,\"dari total\",comm.size)"
   ]
  },
  {
   "cell_type": "code",
   "execution_count": 2,
   "metadata": {},
   "outputs": [],
   "source": [
    "#jika tidak bisa print jalankan ini sekali saja\n",
    "import mpi4py\n",
    "mpi4py.rc(initialize=False, finalize=False)"
   ]
  },
  {
   "cell_type": "code",
   "execution_count": null,
   "metadata": {},
   "outputs": [],
   "source": [
    "!mpiexec -n 4 ~/opt/anaconda3/bin/python mpihello.py"
   ]
  },
  {
   "cell_type": "code",
   "execution_count": 1,
   "metadata": {},
   "outputs": [
    {
     "name": "stdout",
     "output_type": "stream",
     "text": [
      "0 mengerjakan 0 50 [1, 3, 5, 7, 9, 11, 13, 15, 17, 19, 21, 23, 25, 27, 29, 31, 33, 35, 37, 39, 41, 43, 45, 47, 49, 51, 53, 55, 57, 59, 61, 63, 65, 67, 69, 71, 73, 75, 77, 79, 81, 83, 85, 87, 89, 91, 93, 95, 97, 99] 50 of 50\n"
     ]
    }
   ],
   "source": [
    "from mpi4py import MPI\n",
    "from math import ceil\n",
    "comm = MPI.COMM_WORLD\n",
    "d = [i for i in range(1,100,2)]\n",
    "i = ceil(len(d)/comm.size)\n",
    "j = comm.rank*i\n",
    "if (j+i)>=len(d):\n",
    "    k = len(d)\n",
    "else:\n",
    "    k = j+i\n",
    "print(comm.rank,\"mengerjakan %d %d\" % (j,k),\n",
    "      d[j:k],len(d[j:k]),\"of\",len(d))"
   ]
  },
  {
   "cell_type": "code",
   "execution_count": 13,
   "metadata": {},
   "outputs": [
    {
     "name": "stdout",
     "output_type": "stream",
     "text": [
      "1 mengerjakan 5 10 [11, 13, 15, 17, 19] 5 of 50\n",
      "9 mengerjakan 45 50 [91, 93, 95, 97, 99] 5 of 50\n",
      "8 mengerjakan 40 45 [81, 83, 85, 87, 89] 5 of 50\n",
      "0 mengerjakan 0 5 [1, 3, 5, 7, 9] 5 of 50\n",
      "4 mengerjakan 20 25 [41, 43, 45, 47, 49] 5 of 50\n",
      "2 mengerjakan 10 15 [21, 23, 25, 27, 29] 5 of 50\n",
      "3 mengerjakan 15 20 [31, 33, 35, 37, 39] 5 of 50\n",
      "5 mengerjakan 25 30 [51, 53, 55, 57, 59] 5 of 50\n",
      "6 mengerjakan 30 35 [61, 63, 65, 67, 69] 5 of 50\n",
      "7 mengerjakan 35 40 [71, 73, 75, 77, 79] 5 of 50\n"
     ]
    }
   ],
   "source": [
    "!mpiexec -n 10 ~/opt/anaconda3/bin/python mpibagikerja.py"
   ]
  },
  {
   "cell_type": "code",
   "execution_count": 14,
   "metadata": {},
   "outputs": [
    {
     "name": "stdout",
     "output_type": "stream",
     "text": [
      "Rank 0 Kumpulin data\r\n",
      "Session 1 Rank 1 dari 4\r\n",
      "Session 2 Rank 1 dari 4\r\n",
      "Session 1 Rank 2 dari 4\r\n",
      "Session 2 Rank 2 dari 4\r\n",
      "Rank 2 Upload data\r\n",
      "Session 1 Rank 3 dari 4\r\n",
      "Session 2 Rank 3 dari 4\r\n"
     ]
    }
   ],
   "source": [
    "!mpiexec -n 4 ~/opt/anaconda3/bin/python barrier.py"
   ]
  },
  {
   "cell_type": "code",
   "execution_count": null,
   "metadata": {},
   "outputs": [],
   "source": []
  }
 ],
 "metadata": {
  "kernelspec": {
   "display_name": "Python 3 (ipykernel)",
   "language": "python",
   "name": "python3"
  },
  "language_info": {
   "codemirror_mode": {
    "name": "ipython",
    "version": 3
   },
   "file_extension": ".py",
   "mimetype": "text/x-python",
   "name": "python",
   "nbconvert_exporter": "python",
   "pygments_lexer": "ipython3",
   "version": "3.11.1"
  }
 },
 "nbformat": 4,
 "nbformat_minor": 4
}
